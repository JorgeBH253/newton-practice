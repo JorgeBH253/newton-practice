{
 "cells": [
  {
   "cell_type": "code",
   "execution_count": 1,
   "id": "9f840f00-6894-40a0-b31b-916a202dd0e0",
   "metadata": {},
   "outputs": [],
   "source": [
    "import autograd.numpy as np\n",
    "from autograd import grad, hessian \n",
    "\n",
    "def M_Newton(x_0,f,tol=1e-7): \n",
    "    nabla_f, H_f, x = grad(f), hessian(f), x_0\n",
    "    nabla_f_x, H_f_x = nabla_f(x), H_f(x)\n",
    "    #check if hessian is invertible: \n",
    "    if np.linalg.det(H_f_x) == 0: \n",
    "        raise TypeError \n",
    "    inv_Hfx = np.linalg.inv(H_f_x)\n",
    "    x_new =  x - inv_Hfx@ nabla_f_x\n",
    "    while np.linalg.norm(x-x_new) > tol:\n",
    "        x = x_new \n",
    "        nabla_f_x, H_f_x = nabla_f(x), H_f(x)\n",
    "        x_new = x - inv_Hfx@ nabla_f_x\n",
    "        print(x_new)\n",
    "    return x_new \n",
    "        "
   ]
  },
  {
   "cell_type": "code",
   "execution_count": 2,
   "id": "f1e95c4c-f301-47ff-a7b6-4665d789bdb0",
   "metadata": {},
   "outputs": [],
   "source": [
    "def test_f(x):\n",
    "    return x[0]**2 + x[1]**2 "
   ]
  },
  {
   "cell_type": "code",
   "execution_count": 3,
   "id": "a9cae75a-1034-4196-b6ff-166317819aba",
   "metadata": {},
   "outputs": [
    {
     "name": "stdout",
     "output_type": "stream",
     "text": [
      "[0. 0.]\n"
     ]
    },
    {
     "data": {
      "text/plain": [
       "array([0., 0.])"
      ]
     },
     "execution_count": 3,
     "metadata": {},
     "output_type": "execute_result"
    }
   ],
   "source": [
    "point = np.array([0.1,0.2])\n",
    "\n",
    "M_Newton(point,test_f)"
   ]
  },
  {
   "cell_type": "code",
   "execution_count": null,
   "id": "6f26c245-8218-4cf1-94e4-cfc2c521a78c",
   "metadata": {},
   "outputs": [],
   "source": []
  }
 ],
 "metadata": {
  "kernelspec": {
   "display_name": "Python 3 (ipykernel)",
   "language": "python",
   "name": "python3"
  },
  "language_info": {
   "codemirror_mode": {
    "name": "ipython",
    "version": 3
   },
   "file_extension": ".py",
   "mimetype": "text/x-python",
   "name": "python",
   "nbconvert_exporter": "python",
   "pygments_lexer": "ipython3",
   "version": "3.11.9"
  }
 },
 "nbformat": 4,
 "nbformat_minor": 5
}
